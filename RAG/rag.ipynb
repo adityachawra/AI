{
 "cells": [
  {
   "cell_type": "code",
   "execution_count": 1,
   "id": "652f19da",
   "metadata": {},
   "outputs": [],
   "source": [
    "import json\n",
    "import pandas as pd\n",
    "\n",
    "with open('/Users/adityachawra/Downloads/Startup/DataBase/Data/MF/investment_options-master/amfi_data_fetcher/nav_equity_quant_json.json') as file:\n",
    "    data = json.load(file)\n",
    "    "
   ]
  },
  {
   "cell_type": "code",
   "execution_count": 7,
   "id": "75388b25",
   "metadata": {},
   "outputs": [],
   "source": [
    "from langchain.schema import Document\n",
    "\n",
    "documents = []\n",
    "\n",
    "for fund in data:\n",
    "    content = f\"\"\"\n",
    "    scheme_code: {fund['scheme_code']}\n",
    "    sharpe_ratio: {fund['sharpe_ratio']}\n",
    "    sortino_ratio: {fund['sortino_ratio']}\n",
    "    beta: {fund['beta']}\n",
    "    alpha_annualized: {fund['alpha_annualized']}\n",
    "    treynor_ratio: {fund['treynor_ratio']}\n",
    "    \"\"\"\n",
    "    documents.append(Document(page_content=content))\n",
    "        "
   ]
  },
  {
   "cell_type": "code",
   "execution_count": 10,
   "id": "71c47085",
   "metadata": {},
   "outputs": [
    {
     "name": "stderr",
     "output_type": "stream",
     "text": [
      "/var/folders/j3/btykbjss2l15b55qw91h85hc0000gn/T/ipykernel_53509/1450670707.py:4: LangChainDeprecationWarning: The class `HuggingFaceEmbeddings` was deprecated in LangChain 0.2.2 and will be removed in 1.0. An updated version of the class exists in the :class:`~langchain-huggingface package and should be used instead. To use it run `pip install -U :class:`~langchain-huggingface` and import as `from :class:`~langchain_huggingface import HuggingFaceEmbeddings``.\n",
      "  embeddings = HuggingFaceEmbeddings(model_name=\"sentence-transformers/all-MiniLM-L6-v2\")\n",
      "/Users/adityachawra/Downloads/Startup/AI/RAG/ragtest/lib/python3.13/site-packages/tqdm/auto.py:21: TqdmWarning: IProgress not found. Please update jupyter and ipywidgets. See https://ipywidgets.readthedocs.io/en/stable/user_install.html\n",
      "  from .autonotebook import tqdm as notebook_tqdm\n"
     ]
    }
   ],
   "source": [
    "from langchain.embeddings import HuggingFaceEmbeddings\n",
    "from langchain.vectorstores import FAISS\n",
    "\n",
    "embeddings = HuggingFaceEmbeddings(model_name=\"sentence-transformers/all-MiniLM-L6-v2\")\n",
    "vectorstore = FAISS.from_documents(documents, embeddings)\n",
    "retriever = vectorstore.as_retriever(search_kwargs={\"k\": 3})  # top 3 relevant funds\n"
   ]
  },
  {
   "cell_type": "code",
   "execution_count": 23,
   "id": "019d1277",
   "metadata": {},
   "outputs": [],
   "source": [
    "from langchain.chat_models import ChatOpenAI\n",
    "from langchain.chains import RetrievalQA\n",
    "from dotenv import load_dotenv\n",
    "import os\n",
    "\n",
    "load_dotenv()  # This loads variables from .env into your environment\n",
    "\n",
    "# Now OPENAI_API_KEY is available as an environment variable\n",
    "\n",
    "from langchain_google_genai import ChatGoogleGenerativeAI\n",
    "\n",
    "# Setup Gemini LLM\n",
    "\n",
    "\n",
    "llm = ChatGoogleGenerativeAI(\n",
    "    model=\"gemini-2.5-flash\",\n",
    "    google_api_key=os.getenv(\"GEMINI_API_KEY\"),\n",
    "    temperature=0\n",
    ")\n",
    "\n",
    "\n",
    "\n",
    "rag_chain = RetrievalQA.from_chain_type(\n",
    "    llm=llm,\n",
    "    chain_type=\"stuff\",\n",
    "    retriever=retriever,\n",
    "    return_source_documents=True\n",
    ")\n"
   ]
  },
  {
   "cell_type": "code",
   "execution_count": 31,
   "id": "5e2b3853",
   "metadata": {},
   "outputs": [
    {
     "name": "stdout",
     "output_type": "stream",
     "text": [
      "Based on your preference for higher risk bets and a decent return, I recommend the following mutual fund:\n",
      "\n",
      "1.  **Fund Name: Scheme 144836**\n",
      "    *   **Explanation:** This fund appears to be a strong candidate for your investment goals. You mentioned being comfortable with some higher risk, and this fund's performance metrics suggest it has historically delivered excellent returns for the level of risk it takes.\n",
      "        *   **Why it suits your needs:**\n",
      "            *   **Higher Risk Tolerance:** While its market sensitivity (`beta` of 0.81) is slightly higher than some other options, it indicates that it might experience slightly larger movements in line with the overall market. This aligns with your comfort level for \"higher risk bets.\"\n",
      "            *   **Decent Return Potential:** This fund truly shines in its ability to generate returns. Its `alpha_annualized` of 0.34 is exceptionally high, meaning it has consistently outperformed what would be expected given its risk level. In simpler terms, it has shown a strong ability to generate extra returns beyond just following the market.\n",
      "            *   **Efficient Returns for Risk Taken:** The fund boasts very high `sharpe_ratio` (5.06) and `sortino_ratio` (9.93). These numbers indicate that for every unit of risk you take, especially considering the downside, this fund has historically provided a very good return. This means it's not just taking on risk, but it's being well-rewarded for it. Its `treynor_ratio` (0.63) also confirms its strong performance relative to market risk.\n",
      "        *   **In summary:** Scheme 144836 seems to be a good fit because it offers a balance of slightly higher market exposure (aligning with your risk comfort) while demonstrating a remarkable ability to generate significant returns efficiently, making it a strong contender for a \"decent return\" on your investment.\n"
     ]
    }
   ],
   "source": [
    "user_query = input(\"Enter your query about mutual funds: \")\n",
    "\n",
    "\n",
    "full_query = f\"\"\"\n",
    "This is a financial advisory system that recommends mutual funds based on user queries.\n",
    "Answer only according the to context the documents provided through rag_chain.\n",
    "\n",
    "User Query: {user_query}\n",
    "Explain why each recommended fund is a good fit, not in a technical way but how it suits their needs.\n",
    "Provide a detailed explanation of the recommended funds, including their performance metrics and how they align with the user's query.\n",
    "Use the following format for your response:\n",
    "1. Fund Name: [Name of the fund]\n",
    "   - Explanation: [Detailed explanation of why this fund is recommended]\n",
    "2. Fund Name: [Name of the fund]\n",
    "   - Explanation: [Detailed explanation of why this fund is recommended]\n",
    "and so on for each recommended fund.\n",
    "help them with their query and provide a comprehensive answer.\n",
    "\"\"\"\n",
    "\n",
    "result = rag_chain(full_query)\n",
    "\n",
    "print(result['result'])"
   ]
  },
  {
   "cell_type": "code",
   "execution_count": null,
   "id": "bee9641c",
   "metadata": {},
   "outputs": [],
   "source": [
    "\n"
   ]
  },
  {
   "cell_type": "code",
   "execution_count": null,
   "id": "77d09d3c",
   "metadata": {},
   "outputs": [
    {
     "name": "stdout",
     "output_type": "stream",
     "text": [
      "{'query': '\\nThis is a financial advisory system that recommends mutual funds based on user queries.\\nAnswer only according the to context the documents provided through rag_chain.\\n\\nUser Query: Suggest scheme code form high sortino ratio and lower beta.\\nExplain why each recommended fund is a good fit.\\n', 'result': \"Based on your criteria for a high Sortino ratio and lower beta, the following scheme codes are recommended:\\n\\n*   **Scheme Code: 144545**\\n    *   **Why it's a good fit:** It has the highest Sortino ratio (7.269) among the provided options, indicating excellent risk-adjusted returns, particularly in managing downside risk. It also has the lowest beta (0.716), suggesting lower volatility compared to the overall market.\\n*   **Scheme Code: 144544**\\n    *   **Why it's a good fit:** Similar to 144545, it also has the highest Sortino ratio (7.269), signifying strong performance relative to downside risk. Its beta (0.716) is also the lowest, indicating less sensitivity to market movements.\", 'source_documents': [Document(id='6b8ccdb6-17f9-40b0-b055-b927674d4ce3', metadata={}, page_content='\\n    scheme_code: 144545\\n    sharpe_ratio: 3.9941039296968124\\n    sortino_ratio: 7.269059119799477\\n    beta: 0.7162597430582265\\n    alpha_annualized: 0.21966062656149535\\n    treynor_ratio: 0.5045771785209839\\n    '), Document(id='e7955bf4-1f8f-44bb-999d-8f8eede47bc7', metadata={}, page_content='\\n    scheme_code: 103504\\n    sharpe_ratio: 2.934231565567991\\n    sortino_ratio: 4.873567696331947\\n    beta: 0.7960296272574696\\n    alpha_annualized: 0.11605036199131666\\n    treynor_ratio: 0.35178974165452165\\n    '), Document(id='73c18ea6-1606-423c-b1c4-8e80233fd082', metadata={}, page_content='\\n    scheme_code: 144544\\n    sharpe_ratio: 3.9941039296968124\\n    sortino_ratio: 7.269059119799477\\n    beta: 0.7162597430582265\\n    alpha_annualized: 0.21966062656149535\\n    treynor_ratio: 0.5045771785209839\\n    ')]}\n"
     ]
    }
   ],
   "source": []
  }
 ],
 "metadata": {
  "kernelspec": {
   "display_name": "ragtest",
   "language": "python",
   "name": "python3"
  },
  "language_info": {
   "codemirror_mode": {
    "name": "ipython",
    "version": 3
   },
   "file_extension": ".py",
   "mimetype": "text/x-python",
   "name": "python",
   "nbconvert_exporter": "python",
   "pygments_lexer": "ipython3",
   "version": "3.13.1"
  }
 },
 "nbformat": 4,
 "nbformat_minor": 5
}
